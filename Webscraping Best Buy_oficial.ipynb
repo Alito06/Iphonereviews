{
 "cells": [
  {
   "cell_type": "markdown",
   "metadata": {},
   "source": [
    "## Social Media Analytics\n",
    "\n",
    "# Webscraping Project\n",
    "\n",
    "\n",
    "##### Felix Funes 20220306 | Paula Catalan 20221048 | Efstathia Styliagkatzi 20220078 | Alisson Tapia 20221156 | S M Abrar Hossain Asif 20220223\n",
    "\n",
    "\n"
   ]
  },
  {
   "cell_type": "markdown",
   "metadata": {},
   "source": [
    "### Step 1: Load packages and do the initializations"
   ]
  },
  {
   "cell_type": "code",
   "execution_count": 37,
   "metadata": {},
   "outputs": [
    {
     "name": "stderr",
     "output_type": "stream",
     "text": [
      "[nltk_data] Downloading package vader_lexicon to\n",
      "[nltk_data]     C:\\Users\\madel\\AppData\\Roaming\\nltk_data...\n",
      "[nltk_data]   Package vader_lexicon is already up-to-date!\n"
     ]
    },
    {
     "data": {
      "text/plain": [
       "True"
      ]
     },
     "execution_count": 37,
     "metadata": {},
     "output_type": "execute_result"
    }
   ],
   "source": [
    "# Load libraries\n",
    "import numpy as np\n",
    "import pandas as pd\n",
    "from urllib.request import urlopen\n",
    "from bs4 import BeautifulSoup\n",
    "import ssl\n",
    "from selenium import webdriver\n",
    "from selenium.webdriver.firefox.firefox_binary import FirefoxBinary\n",
    "from selenium.webdriver.firefox.options import Options\n",
    "from selenium.webdriver.common.by import By\n",
    "from selenium.webdriver import Firefox\n",
    "from selenium.webdriver.firefox.firefox_profile import FirefoxProfile\n",
    "import time\n",
    "import re\n",
    "from datetime import datetime, date, timedelta\n",
    "import requests\n",
    "import nltk\n",
    "from nltk.sentiment.vader import SentimentIntensityAnalyzer\n",
    "nltk.download('vader_lexicon')"
   ]
  },
  {
   "cell_type": "code",
   "execution_count": 38,
   "metadata": {},
   "outputs": [],
   "source": [
    "# Allow not verified SSL (Secure Socket Layer) certificates to be opened\n",
    "ssl._create_default_https_context = ssl._create_unverified_context"
   ]
  },
  {
   "cell_type": "code",
   "execution_count": 39,
   "metadata": {},
   "outputs": [],
   "source": [
    "# Get Firefox options (configurations)\n",
    "options = Options()"
   ]
  },
  {
   "cell_type": "code",
   "execution_count": 40,
   "metadata": {},
   "outputs": [],
   "source": [
    "# Load the list of the pages to read the content\n",
    "reviews_to_scrape = pd.read_excel(\"iphone-reviews-to-scrape.xlsx\", sheet_name=\"Sheet1\", index_col=\"ID\", engine='openpyxl')\n"
   ]
  },
  {
   "cell_type": "code",
   "execution_count": 41,
   "metadata": {},
   "outputs": [],
   "source": [
    "# Create an empty dataframe for the resuls\n",
    "iphone_reviews = pd.DataFrame({'device': pd.Series([], dtype='string'),\n",
    "                             'user': pd.Series([], dtype='string'),\n",
    "                             'rating': pd.Series([], dtype='float'),\n",
    "                             'text': pd.Series([], dtype='string')\n",
    "                             })"
   ]
  },
  {
   "cell_type": "markdown",
   "metadata": {},
   "source": [
    "### Step 2: Functions to use in the Main Loop"
   ]
  },
  {
   "cell_type": "code",
   "execution_count": 42,
   "metadata": {},
   "outputs": [],
   "source": [
    "#prueba\n",
    "\n",
    "def openPageReadHTML(url):\n",
    "    # Create a Firefox profile with permissions disabled\n",
    "    firefox_options = Options()\n",
    "    firefox_options.set_preference('geo.enabled', False)\n",
    "    firefox_options.set_preference('geo.provider.network.url', '')\n",
    "    firefox_options.set_preference('dom.webnotifications.enabled', False)\n",
    "    firefox_options.set_preference('dom.disable_open_during_load', False)\n",
    "\n",
    "    # Launch Firefox with the custom profile\n",
    "    browser = webdriver.Firefox(options=firefox_options)\n",
    "    browser.get(url)\n",
    "    time.sleep(1)\n",
    "\n",
    "    # If there is a privacy pop-up, click the OK button\n",
    "    privacy_button = browser.find_elements(By.CLASS_NAME,\"us-link\")\n",
    "    if len(privacy_button)>0:\n",
    "        browser.execute_script(\"arguments[0].click()\", privacy_button[0])\n",
    "        time.sleep(0.5)\n",
    "\n",
    "    # Read the content and close the browser\n",
    "    html_source = browser.page_source  \n",
    "    browser.quit()\n",
    "\n",
    "    # Transform the html into a BeautifulSoup object\n",
    "    soupObj = BeautifulSoup(html_source) \n",
    "\n",
    "    return soupObj\n"
   ]
  },
  {
   "cell_type": "code",
   "execution_count": 46,
   "metadata": {},
   "outputs": [],
   "source": [
    "# Process each page\n",
    "def processPage(soupObj, ID, extractedDF):   \n",
    "\n",
    "    # Read reviews\n",
    "    reviews = soupObj.find_all(\"li\", class_=\"review-item\")\n",
    "\n",
    "    # Loop thru each review\n",
    "    for i in range(0,len(reviews)):\n",
    "\n",
    "        # Get Rating\n",
    "        rating = reviews[i].select_one(\"p[class*=visually-hidden]\")\n",
    "        if rating:\n",
    "            reviewRating = rating.text.strip()[6]\n",
    "\n",
    "        # Get User\n",
    "        user = reviews[i].select_one(\"div[class*=ugc-author]\")\n",
    "        if user:\n",
    "            user = user.text.strip()\n",
    "\n",
    "        # Get Review Text\n",
    "        reviewText = reviews[i].select_one(\"div[class=ugc-review-body]\")\n",
    "        if reviewText:\n",
    "            reviewText = reviewText.text.strip()\n",
    "\n",
    "        # Get sentiment of the review\n",
    "        # Create a SentimentIntensityAnalyzer object\n",
    "        sid = SentimentIntensityAnalyzer()\n",
    "        # Calculate the sentiment scores for the review\n",
    "        scores = sid.polarity_scores(reviewText)\n",
    "\n",
    "        # Determine the overall sentiment based on the compound score\n",
    "        if scores['compound'] > 0.05:\n",
    "            sentiment = 'Positive'\n",
    "        elif scores['compound'] < -0.05:\n",
    "            sentiment = 'Negative'\n",
    "        else:\n",
    "            sentiment = 'Neutral'\n",
    "            \n",
    "\n",
    "        # Update extracted reviews dataframe\n",
    "        tDF = pd.DataFrame({'device': [ID],\n",
    "                             'user': [user],\n",
    "                             'rating': [reviewRating],\n",
    "                             'text': [reviewText],\n",
    "                            'Sentiment_score': [scores],\n",
    "                             'sentiment': [sentiment]\n",
    "                             })\n",
    "        extractedDF = pd.concat([extractedDF,tDF],ignore_index=True)\n",
    "\n",
    "    # Return the resulting dataframe\n",
    "    return extractedDF\n"
   ]
  },
  {
   "cell_type": "markdown",
   "metadata": {},
   "source": [
    "### Step 3: Main loop"
   ]
  },
  {
   "cell_type": "code",
   "execution_count": 51,
   "metadata": {},
   "outputs": [
    {
     "name": "stdout",
     "output_type": "stream",
     "text": [
      "Processing  Apple - iPhone 14 128GB - Midnight (Verizon)\n"
     ]
    },
    {
     "ename": "ValueError",
     "evalue": "The truth value of a DataFrame is ambiguous. Use a.empty, a.bool(), a.item(), a.any() or a.all().",
     "output_type": "error",
     "traceback": [
      "\u001b[1;31m---------------------------------------------------------------------------\u001b[0m",
      "\u001b[1;31mValueError\u001b[0m                                Traceback (most recent call last)",
      "\u001b[1;32m~\\AppData\\Local\\Temp\\ipykernel_7144\\2279111803.py\u001b[0m in \u001b[0;36m<module>\u001b[1;34m\u001b[0m\n\u001b[0;32m     23\u001b[0m         \u001b[0mnext_page\u001b[0m \u001b[1;33m=\u001b[0m \u001b[0mprocessPage\u001b[0m\u001b[1;33m(\u001b[0m\u001b[0msoup\u001b[0m\u001b[1;33m,\u001b[0m \u001b[0mindex\u001b[0m\u001b[1;33m,\u001b[0m \u001b[0miphone_reviews\u001b[0m\u001b[1;33m)\u001b[0m\u001b[1;33m\u001b[0m\u001b[1;33m\u001b[0m\u001b[0m\n\u001b[0;32m     24\u001b[0m         \u001b[1;31m# Check if there is a next page of reviews\u001b[0m\u001b[1;33m\u001b[0m\u001b[1;33m\u001b[0m\u001b[0m\n\u001b[1;32m---> 25\u001b[1;33m         \u001b[1;32mif\u001b[0m \u001b[0mnext_page\u001b[0m\u001b[1;33m:\u001b[0m\u001b[1;33m\u001b[0m\u001b[1;33m\u001b[0m\u001b[0m\n\u001b[0m\u001b[0;32m     26\u001b[0m \u001b[1;33m\u001b[0m\u001b[0m\n\u001b[0;32m     27\u001b[0m             \u001b[1;31m# Update counter\u001b[0m\u001b[1;33m\u001b[0m\u001b[1;33m\u001b[0m\u001b[0m\n",
      "\u001b[1;32m~\\anaconda3\\lib\\site-packages\\pandas\\core\\generic.py\u001b[0m in \u001b[0;36m__nonzero__\u001b[1;34m(self)\u001b[0m\n\u001b[0;32m   1525\u001b[0m     \u001b[1;33m@\u001b[0m\u001b[0mfinal\u001b[0m\u001b[1;33m\u001b[0m\u001b[1;33m\u001b[0m\u001b[0m\n\u001b[0;32m   1526\u001b[0m     \u001b[1;32mdef\u001b[0m \u001b[0m__nonzero__\u001b[0m\u001b[1;33m(\u001b[0m\u001b[0mself\u001b[0m\u001b[1;33m)\u001b[0m\u001b[1;33m:\u001b[0m\u001b[1;33m\u001b[0m\u001b[1;33m\u001b[0m\u001b[0m\n\u001b[1;32m-> 1527\u001b[1;33m         raise ValueError(\n\u001b[0m\u001b[0;32m   1528\u001b[0m             \u001b[1;34mf\"The truth value of a {type(self).__name__} is ambiguous. \"\u001b[0m\u001b[1;33m\u001b[0m\u001b[1;33m\u001b[0m\u001b[0m\n\u001b[0;32m   1529\u001b[0m             \u001b[1;34m\"Use a.empty, a.bool(), a.item(), a.any() or a.all().\"\u001b[0m\u001b[1;33m\u001b[0m\u001b[1;33m\u001b[0m\u001b[0m\n",
      "\u001b[1;31mValueError\u001b[0m: The truth value of a DataFrame is ambiguous. Use a.empty, a.bool(), a.item(), a.any() or a.all()."
     ]
    }
   ],
   "source": [
    "# Loop for all pages\n",
    "for index, row in reviews_to_scrape.iterrows():\n",
    "\n",
    "    # Present feedback on which page is being processed\n",
    "    print(\"Processing \", index)\n",
    "\n",
    "    # Reset counter per page\n",
    "    reviewsExtracted = 0    \n",
    "\n",
    "    # Loop until it extracts all reviews\n",
    "    while True:\n",
    "\n",
    "        # Define URL to use based on the number of reviews extracted so far\n",
    "        urlToUse = row['URL']\n",
    "        if reviewsExtracted>0:\n",
    "            repText = \"-Reviews-or\"+str(reviewsExtracted)+\"-\"\n",
    "            urlToUse = urlToUse.replace(\"-Reviews-\",repText)\n",
    "\n",
    "        # Open and read the web page content\n",
    "        soup = openPageReadHTML(urlToUse)\n",
    "\n",
    "        # Process web page\n",
    "        next_page = processPage(soup, index, iphone_reviews)\n",
    "        # Check if there is a next page of reviews\n",
    "        if next_page:\n",
    "\n",
    "            # Update counter\n",
    "            reviewsExtracted += 20\n",
    "\n",
    "            # Get the URL of the next page and update the URL to use\n",
    "            urlToUse = next_page\n",
    "\n",
    "        else:\n",
    "            # All reviews have been extracted\n",
    "            break\n",
    "\n",
    "        # Present feedback on the number of extracted reviews\n",
    "        print(\"Extracted \",reviewsExtracted,\" reviews\")\n",
    "\n"
   ]
  },
  {
   "cell_type": "code",
   "execution_count": 32,
   "metadata": {},
   "outputs": [],
   "source": [
    "# let's define the number of reviews to obtain per page\n",
    "iphone_reviews = []"
   ]
  },
  {
   "cell_type": "code",
   "execution_count": 33,
   "metadata": {},
   "outputs": [
    {
     "name": "stdout",
     "output_type": "stream",
     "text": [
      "Processing  Apple - iPhone 14 128GB - Midnight (Verizon)\n"
     ]
    },
    {
     "ename": "TypeError",
     "evalue": "cannot concatenate object of type '<class 'list'>'; only Series and DataFrame objs are valid",
     "output_type": "error",
     "traceback": [
      "\u001b[1;31m---------------------------------------------------------------------------\u001b[0m",
      "\u001b[1;31mTypeError\u001b[0m                                 Traceback (most recent call last)",
      "\u001b[1;32m~\\AppData\\Local\\Temp\\ipykernel_7144\\1099708312.py\u001b[0m in \u001b[0;36m<module>\u001b[1;34m\u001b[0m\n\u001b[0;32m     11\u001b[0m \u001b[1;33m\u001b[0m\u001b[0m\n\u001b[0;32m     12\u001b[0m         \u001b[1;31m# Process web page\u001b[0m\u001b[1;33m\u001b[0m\u001b[1;33m\u001b[0m\u001b[0m\n\u001b[1;32m---> 13\u001b[1;33m         \u001b[0miphone_reviews\u001b[0m \u001b[1;33m=\u001b[0m \u001b[0mprocessPage\u001b[0m\u001b[1;33m(\u001b[0m\u001b[0msoup\u001b[0m\u001b[1;33m,\u001b[0m \u001b[0mindex\u001b[0m\u001b[1;33m,\u001b[0m \u001b[0miphone_reviews\u001b[0m\u001b[1;33m)\u001b[0m\u001b[1;33m\u001b[0m\u001b[1;33m\u001b[0m\u001b[0m\n\u001b[0m\u001b[0;32m     14\u001b[0m \u001b[1;33m\u001b[0m\u001b[0m\n\u001b[0;32m     15\u001b[0m         \u001b[1;31m# Find the link to the next review page\u001b[0m\u001b[1;33m\u001b[0m\u001b[1;33m\u001b[0m\u001b[0m\n",
      "\u001b[1;32m~\\AppData\\Local\\Temp\\ipykernel_7144\\1723759068.py\u001b[0m in \u001b[0;36mprocessPage\u001b[1;34m(soupObj, ID, extractedDF)\u001b[0m\n\u001b[0;32m     45\u001b[0m                              \u001b[1;34m'sentiment'\u001b[0m\u001b[1;33m:\u001b[0m \u001b[1;33m[\u001b[0m\u001b[0msentiment\u001b[0m\u001b[1;33m]\u001b[0m\u001b[1;33m\u001b[0m\u001b[1;33m\u001b[0m\u001b[0m\n\u001b[0;32m     46\u001b[0m                              })\n\u001b[1;32m---> 47\u001b[1;33m         \u001b[0mextractedDF\u001b[0m \u001b[1;33m=\u001b[0m \u001b[0mpd\u001b[0m\u001b[1;33m.\u001b[0m\u001b[0mconcat\u001b[0m\u001b[1;33m(\u001b[0m\u001b[1;33m[\u001b[0m\u001b[0mextractedDF\u001b[0m\u001b[1;33m,\u001b[0m\u001b[0mtDF\u001b[0m\u001b[1;33m]\u001b[0m\u001b[1;33m,\u001b[0m\u001b[0mignore_index\u001b[0m\u001b[1;33m=\u001b[0m\u001b[1;32mTrue\u001b[0m\u001b[1;33m)\u001b[0m\u001b[1;33m\u001b[0m\u001b[1;33m\u001b[0m\u001b[0m\n\u001b[0m\u001b[0;32m     48\u001b[0m \u001b[1;33m\u001b[0m\u001b[0m\n\u001b[0;32m     49\u001b[0m     \u001b[1;31m# Return the resulting dataframe\u001b[0m\u001b[1;33m\u001b[0m\u001b[1;33m\u001b[0m\u001b[0m\n",
      "\u001b[1;32m~\\anaconda3\\lib\\site-packages\\pandas\\util\\_decorators.py\u001b[0m in \u001b[0;36mwrapper\u001b[1;34m(*args, **kwargs)\u001b[0m\n\u001b[0;32m    309\u001b[0m                     \u001b[0mstacklevel\u001b[0m\u001b[1;33m=\u001b[0m\u001b[0mstacklevel\u001b[0m\u001b[1;33m,\u001b[0m\u001b[1;33m\u001b[0m\u001b[1;33m\u001b[0m\u001b[0m\n\u001b[0;32m    310\u001b[0m                 )\n\u001b[1;32m--> 311\u001b[1;33m             \u001b[1;32mreturn\u001b[0m \u001b[0mfunc\u001b[0m\u001b[1;33m(\u001b[0m\u001b[1;33m*\u001b[0m\u001b[0margs\u001b[0m\u001b[1;33m,\u001b[0m \u001b[1;33m**\u001b[0m\u001b[0mkwargs\u001b[0m\u001b[1;33m)\u001b[0m\u001b[1;33m\u001b[0m\u001b[1;33m\u001b[0m\u001b[0m\n\u001b[0m\u001b[0;32m    312\u001b[0m \u001b[1;33m\u001b[0m\u001b[0m\n\u001b[0;32m    313\u001b[0m         \u001b[1;32mreturn\u001b[0m \u001b[0mwrapper\u001b[0m\u001b[1;33m\u001b[0m\u001b[1;33m\u001b[0m\u001b[0m\n",
      "\u001b[1;32m~\\anaconda3\\lib\\site-packages\\pandas\\core\\reshape\\concat.py\u001b[0m in \u001b[0;36mconcat\u001b[1;34m(objs, axis, join, ignore_index, keys, levels, names, verify_integrity, sort, copy)\u001b[0m\n\u001b[0;32m    345\u001b[0m     \u001b[0mValueError\u001b[0m\u001b[1;33m:\u001b[0m \u001b[0mIndexes\u001b[0m \u001b[0mhave\u001b[0m \u001b[0moverlapping\u001b[0m \u001b[0mvalues\u001b[0m\u001b[1;33m:\u001b[0m \u001b[1;33m[\u001b[0m\u001b[1;34m'a'\u001b[0m\u001b[1;33m]\u001b[0m\u001b[1;33m\u001b[0m\u001b[1;33m\u001b[0m\u001b[0m\n\u001b[0;32m    346\u001b[0m     \"\"\"\n\u001b[1;32m--> 347\u001b[1;33m     op = _Concatenator(\n\u001b[0m\u001b[0;32m    348\u001b[0m         \u001b[0mobjs\u001b[0m\u001b[1;33m,\u001b[0m\u001b[1;33m\u001b[0m\u001b[1;33m\u001b[0m\u001b[0m\n\u001b[0;32m    349\u001b[0m         \u001b[0maxis\u001b[0m\u001b[1;33m=\u001b[0m\u001b[0maxis\u001b[0m\u001b[1;33m,\u001b[0m\u001b[1;33m\u001b[0m\u001b[1;33m\u001b[0m\u001b[0m\n",
      "\u001b[1;32m~\\anaconda3\\lib\\site-packages\\pandas\\core\\reshape\\concat.py\u001b[0m in \u001b[0;36m__init__\u001b[1;34m(self, objs, axis, join, keys, levels, names, ignore_index, verify_integrity, copy, sort)\u001b[0m\n\u001b[0;32m    435\u001b[0m                     \u001b[1;34m\"only Series and DataFrame objs are valid\"\u001b[0m\u001b[1;33m\u001b[0m\u001b[1;33m\u001b[0m\u001b[0m\n\u001b[0;32m    436\u001b[0m                 )\n\u001b[1;32m--> 437\u001b[1;33m                 \u001b[1;32mraise\u001b[0m \u001b[0mTypeError\u001b[0m\u001b[1;33m(\u001b[0m\u001b[0mmsg\u001b[0m\u001b[1;33m)\u001b[0m\u001b[1;33m\u001b[0m\u001b[1;33m\u001b[0m\u001b[0m\n\u001b[0m\u001b[0;32m    438\u001b[0m \u001b[1;33m\u001b[0m\u001b[0m\n\u001b[0;32m    439\u001b[0m             \u001b[0mndims\u001b[0m\u001b[1;33m.\u001b[0m\u001b[0madd\u001b[0m\u001b[1;33m(\u001b[0m\u001b[0mobj\u001b[0m\u001b[1;33m.\u001b[0m\u001b[0mndim\u001b[0m\u001b[1;33m)\u001b[0m\u001b[1;33m\u001b[0m\u001b[1;33m\u001b[0m\u001b[0m\n",
      "\u001b[1;31mTypeError\u001b[0m: cannot concatenate object of type '<class 'list'>'; only Series and DataFrame objs are valid"
     ]
    }
   ],
   "source": [
    "# Loop for all pages!!!!!!!!!!!!!!!!!!!!!!!!!!!!!!!!!!!!!!!!!!!!!!!!!!!!!!1\n",
    "for index, row in reviews_to_scrape.iterrows():\n",
    "\n",
    "    # Present feedback on which page is being processed\n",
    "    print(\"Processing \", index)\n",
    "\n",
    "     # Loop through all review pages\n",
    "    while True:\n",
    "        # Open and read the web page content\n",
    "        soup = openPageReadHTML(urlToUse)\n",
    "\n",
    "        # Process web page\n",
    "        iphone_reviews = processPage(soup, index, iphone_reviews)\n",
    "\n",
    "        # Find the link to the next review page\n",
    "        next_link = soup.find('a', {'class': 'pageNav--next'})\n",
    "\n",
    "        # Check if there is a next review page\n",
    "        if next_link:\n",
    "            # Update URL to use the link to the next review page\n",
    "            urlToUse = next_link['href']\n",
    "        else:\n",
    "            # No more review pages, break out of the loop\n",
    "            break\n",
    "\n",
    "    # Present feedback on the number of extracted reviews\n",
    "    print(\"Extracted \", len(iphone_reviews), \" reviews\")"
   ]
  },
  {
   "cell_type": "code",
   "execution_count": 20,
   "metadata": {},
   "outputs": [
    {
     "data": {
      "text/plain": [
       "0"
      ]
     },
     "execution_count": 20,
     "metadata": {},
     "output_type": "execute_result"
    }
   ],
   "source": [
    "iphone_reviews = iphone_reviews.astype(str)\n",
    "sum(iphone_reviews.duplicated())"
   ]
  },
  {
   "cell_type": "markdown",
   "metadata": {},
   "source": [
    "### Step 4: The Final Excel File"
   ]
  },
  {
   "cell_type": "code",
   "execution_count": 21,
   "metadata": {},
   "outputs": [
    {
     "data": {
      "text/html": [
       "<div>\n",
       "<style scoped>\n",
       "    .dataframe tbody tr th:only-of-type {\n",
       "        vertical-align: middle;\n",
       "    }\n",
       "\n",
       "    .dataframe tbody tr th {\n",
       "        vertical-align: top;\n",
       "    }\n",
       "\n",
       "    .dataframe thead th {\n",
       "        text-align: right;\n",
       "    }\n",
       "</style>\n",
       "<table border=\"1\" class=\"dataframe\">\n",
       "  <thead>\n",
       "    <tr style=\"text-align: right;\">\n",
       "      <th></th>\n",
       "      <th>device</th>\n",
       "      <th>user</th>\n",
       "      <th>rating</th>\n",
       "      <th>text</th>\n",
       "      <th>Sentiment_score</th>\n",
       "      <th>sentiment</th>\n",
       "    </tr>\n",
       "  </thead>\n",
       "  <tbody>\n",
       "    <tr>\n",
       "      <th>0</th>\n",
       "      <td>Apple - iPhone 14 128GB - Midnight (Verizon)</td>\n",
       "      <td>BigG</td>\n",
       "      <td>5</td>\n",
       "      <td>Apple makes the best cellphone on the market h...</td>\n",
       "      <td>{'neg': 0.0, 'neu': 0.682, 'pos': 0.318, 'comp...</td>\n",
       "      <td>Positive</td>\n",
       "    </tr>\n",
       "    <tr>\n",
       "      <th>1</th>\n",
       "      <td>Apple - iPhone 14 128GB - Midnight (Verizon)</td>\n",
       "      <td>Jp44087</td>\n",
       "      <td>5</td>\n",
       "      <td>Ease of use, good battery life, 128gb fits me ...</td>\n",
       "      <td>{'neg': 0.0, 'neu': 0.526, 'pos': 0.474, 'comp...</td>\n",
       "      <td>Positive</td>\n",
       "    </tr>\n",
       "    <tr>\n",
       "      <th>2</th>\n",
       "      <td>Apple - iPhone 14 128GB - Midnight (Verizon)</td>\n",
       "      <td>GamerDadLife</td>\n",
       "      <td>5</td>\n",
       "      <td>Love it works great and the red color is the m...</td>\n",
       "      <td>{'neg': 0.0, 'neu': 0.488, 'pos': 0.512, 'comp...</td>\n",
       "      <td>Positive</td>\n",
       "    </tr>\n",
       "    <tr>\n",
       "      <th>3</th>\n",
       "      <td>Apple - iPhone 14 128GB - Midnight (Verizon)</td>\n",
       "      <td>Ohio</td>\n",
       "      <td>5</td>\n",
       "      <td>The perfect iPhone! this thing is amazing for ...</td>\n",
       "      <td>{'neg': 0.0, 'neu': 0.599, 'pos': 0.401, 'comp...</td>\n",
       "      <td>Positive</td>\n",
       "    </tr>\n",
       "    <tr>\n",
       "      <th>4</th>\n",
       "      <td>Apple - iPhone 14 128GB - Midnight (Verizon)</td>\n",
       "      <td>ChristynM</td>\n",
       "      <td>5</td>\n",
       "      <td>So far, so good. I used android since I got a ...</td>\n",
       "      <td>{'neg': 0.109, 'neu': 0.647, 'pos': 0.244, 'co...</td>\n",
       "      <td>Positive</td>\n",
       "    </tr>\n",
       "    <tr>\n",
       "      <th>...</th>\n",
       "      <td>...</td>\n",
       "      <td>...</td>\n",
       "      <td>...</td>\n",
       "      <td>...</td>\n",
       "      <td>...</td>\n",
       "      <td>...</td>\n",
       "    </tr>\n",
       "    <tr>\n",
       "      <th>98</th>\n",
       "      <td>Apple - iPhone 14 128GB - Purple (T-Mobile)</td>\n",
       "      <td>CMSnewtoy</td>\n",
       "      <td>5</td>\n",
       "      <td>Love my new I-phone 14\\nAllen did an EXCELLENT...</td>\n",
       "      <td>{'neg': 0.0, 'neu': 0.688, 'pos': 0.312, 'comp...</td>\n",
       "      <td>Positive</td>\n",
       "    </tr>\n",
       "    <tr>\n",
       "      <th>99</th>\n",
       "      <td>Apple - iPhone 14 128GB - Purple (T-Mobile)</td>\n",
       "      <td>Bree</td>\n",
       "      <td>5</td>\n",
       "      <td>Love my new phone! You able to do so much more...</td>\n",
       "      <td>{'neg': 0.0, 'neu': 0.757, 'pos': 0.243, 'comp...</td>\n",
       "      <td>Positive</td>\n",
       "    </tr>\n",
       "    <tr>\n",
       "      <th>100</th>\n",
       "      <td>Apple - iPhone 14 128GB - Purple (T-Mobile)</td>\n",
       "      <td>DeborahB</td>\n",
       "      <td>5</td>\n",
       "      <td>Great phone after I learned how to use it beca...</td>\n",
       "      <td>{'neg': 0.0, 'neu': 0.76, 'pos': 0.24, 'compou...</td>\n",
       "      <td>Positive</td>\n",
       "    </tr>\n",
       "    <tr>\n",
       "      <th>101</th>\n",
       "      <td>Apple - iPhone 14 128GB - Purple (T-Mobile)</td>\n",
       "      <td>Priceright</td>\n",
       "      <td>5</td>\n",
       "      <td>Never disappointed with Apple Products- awesom...</td>\n",
       "      <td>{'neg': 0.089, 'neu': 0.665, 'pos': 0.246, 'co...</td>\n",
       "      <td>Positive</td>\n",
       "    </tr>\n",
       "    <tr>\n",
       "      <th>102</th>\n",
       "      <td>Apple - iPhone 14 128GB - Purple (T-Mobile)</td>\n",
       "      <td>BrooklynCartel</td>\n",
       "      <td>5</td>\n",
       "      <td>i phone 14 is great , good price Highly Recomm...</td>\n",
       "      <td>{'neg': 0.0, 'neu': 0.45, 'pos': 0.55, 'compou...</td>\n",
       "      <td>Positive</td>\n",
       "    </tr>\n",
       "  </tbody>\n",
       "</table>\n",
       "<p>103 rows × 6 columns</p>\n",
       "</div>"
      ],
      "text/plain": [
       "                                           device            user rating  \\\n",
       "0    Apple - iPhone 14 128GB - Midnight (Verizon)            BigG      5   \n",
       "1    Apple - iPhone 14 128GB - Midnight (Verizon)         Jp44087      5   \n",
       "2    Apple - iPhone 14 128GB - Midnight (Verizon)    GamerDadLife      5   \n",
       "3    Apple - iPhone 14 128GB - Midnight (Verizon)            Ohio      5   \n",
       "4    Apple - iPhone 14 128GB - Midnight (Verizon)       ChristynM      5   \n",
       "..                                            ...             ...    ...   \n",
       "98    Apple - iPhone 14 128GB - Purple (T-Mobile)       CMSnewtoy      5   \n",
       "99    Apple - iPhone 14 128GB - Purple (T-Mobile)            Bree      5   \n",
       "100   Apple - iPhone 14 128GB - Purple (T-Mobile)        DeborahB      5   \n",
       "101   Apple - iPhone 14 128GB - Purple (T-Mobile)      Priceright      5   \n",
       "102   Apple - iPhone 14 128GB - Purple (T-Mobile)  BrooklynCartel      5   \n",
       "\n",
       "                                                  text  \\\n",
       "0    Apple makes the best cellphone on the market h...   \n",
       "1    Ease of use, good battery life, 128gb fits me ...   \n",
       "2    Love it works great and the red color is the m...   \n",
       "3    The perfect iPhone! this thing is amazing for ...   \n",
       "4    So far, so good. I used android since I got a ...   \n",
       "..                                                 ...   \n",
       "98   Love my new I-phone 14\\nAllen did an EXCELLENT...   \n",
       "99   Love my new phone! You able to do so much more...   \n",
       "100  Great phone after I learned how to use it beca...   \n",
       "101  Never disappointed with Apple Products- awesom...   \n",
       "102  i phone 14 is great , good price Highly Recomm...   \n",
       "\n",
       "                                       Sentiment_score sentiment  \n",
       "0    {'neg': 0.0, 'neu': 0.682, 'pos': 0.318, 'comp...  Positive  \n",
       "1    {'neg': 0.0, 'neu': 0.526, 'pos': 0.474, 'comp...  Positive  \n",
       "2    {'neg': 0.0, 'neu': 0.488, 'pos': 0.512, 'comp...  Positive  \n",
       "3    {'neg': 0.0, 'neu': 0.599, 'pos': 0.401, 'comp...  Positive  \n",
       "4    {'neg': 0.109, 'neu': 0.647, 'pos': 0.244, 'co...  Positive  \n",
       "..                                                 ...       ...  \n",
       "98   {'neg': 0.0, 'neu': 0.688, 'pos': 0.312, 'comp...  Positive  \n",
       "99   {'neg': 0.0, 'neu': 0.757, 'pos': 0.243, 'comp...  Positive  \n",
       "100  {'neg': 0.0, 'neu': 0.76, 'pos': 0.24, 'compou...  Positive  \n",
       "101  {'neg': 0.089, 'neu': 0.665, 'pos': 0.246, 'co...  Positive  \n",
       "102  {'neg': 0.0, 'neu': 0.45, 'pos': 0.55, 'compou...  Positive  \n",
       "\n",
       "[103 rows x 6 columns]"
      ]
     },
     "execution_count": 21,
     "metadata": {},
     "output_type": "execute_result"
    }
   ],
   "source": [
    "iphone_reviews"
   ]
  },
  {
   "cell_type": "code",
   "execution_count": 22,
   "metadata": {},
   "outputs": [],
   "source": [
    "# Save the extracted reviews data frame to an Excel file\n",
    "iphone_reviews.to_excel(\"ExtractedReviewsData.xlsx\")"
   ]
  },
  {
   "cell_type": "code",
   "execution_count": null,
   "metadata": {},
   "outputs": [],
   "source": []
  }
 ],
 "metadata": {
  "kernelspec": {
   "display_name": "Python 3 (ipykernel)",
   "language": "python",
   "name": "python3"
  },
  "language_info": {
   "codemirror_mode": {
    "name": "ipython",
    "version": 3
   },
   "file_extension": ".py",
   "mimetype": "text/x-python",
   "name": "python",
   "nbconvert_exporter": "python",
   "pygments_lexer": "ipython3",
   "version": "3.9.13"
  },
  "varInspector": {
   "cols": {
    "lenName": 16,
    "lenType": 16,
    "lenVar": 40
   },
   "kernels_config": {
    "python": {
     "delete_cmd_postfix": "",
     "delete_cmd_prefix": "del ",
     "library": "var_list.py",
     "varRefreshCmd": "print(var_dic_list())"
    },
    "r": {
     "delete_cmd_postfix": ") ",
     "delete_cmd_prefix": "rm(",
     "library": "var_list.r",
     "varRefreshCmd": "cat(var_dic_list()) "
    }
   },
   "types_to_exclude": [
    "module",
    "function",
    "builtin_function_or_method",
    "instance",
    "_Feature"
   ],
   "window_display": false
  },
  "vscode": {
   "interpreter": {
    "hash": "d7a18bc08bf6b314cad8b0dd8f53415ad78d1015cc806d14e4873c235fb4e191"
   }
  }
 },
 "nbformat": 4,
 "nbformat_minor": 2
}
